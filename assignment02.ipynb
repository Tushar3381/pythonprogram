{
 "cells": [
  {
   "cell_type": "code",
   "execution_count": 1,
   "id": "a1f1ceb1",
   "metadata": {},
   "outputs": [
    {
     "name": "stdout",
     "output_type": "stream",
     "text": [
      "Enter String:tushar\n",
      "String is Not Symmetric\n",
      "String is not Palindrome\n"
     ]
    }
   ],
   "source": [
    "# Write a python program to check the String is Symmetrical or Palindrom\n",
    "\n",
    "s=(input(\"Enter String:\"))\n",
    "# for Symmetric\n",
    "f=0\n",
    "n=len(s)\n",
    "if(n%2==0):\n",
    "    i=0\n",
    "    j=n//2\n",
    "    while (i<n//2 and j<n):\n",
    "        if(s[i]==s[j]):\n",
    "            i=i+1\n",
    "            j=j+1\n",
    "        else:\n",
    "            f=1\n",
    "            break\n",
    "else:\n",
    "    f=1\n",
    "    \n",
    "if(f==0):\n",
    "    print(\"String is Symmetric\")\n",
    "else:\n",
    "    print(\"String is Not Symmetric\")\n",
    "i=0     # Code for Palindrome String\n",
    "j=n-1\n",
    "f=0\n",
    "while(i<n):\n",
    "    if(s[i]==s[j]):\n",
    "        i=i+1\n",
    "        j=j-1\n",
    "    else:\n",
    "        f=1\n",
    "        break\n",
    "if(f==0):\n",
    "    print(\"String is Palindrome\")\n",
    "else:\n",
    "    print(\"String is not Palindrome\")\n",
    "      "
   ]
  },
  {
   "cell_type": "code",
   "execution_count": 2,
   "id": "0864de5f",
   "metadata": {},
   "outputs": [
    {
     "name": "stdout",
     "output_type": "stream",
     "text": [
      "Enter the String:omsairam\n",
      "String in Reverse Order: mariasmo\n"
     ]
    }
   ],
   "source": [
    "# Write a Program to Reverse word in given String\n",
    "\n",
    "a=input(\"Enter the String:\")\n",
    "s=\"\"\n",
    "for i in a:\n",
    "    s=i+s\n",
    "print(\"String in Reverse Order:\",s)"
   ]
  },
  {
   "cell_type": "code",
   "execution_count": 3,
   "id": "593fdf79",
   "metadata": {},
   "outputs": [
    {
     "name": "stdout",
     "output_type": "stream",
     "text": [
      "enter a string:jayshriram\n",
      "enter position3\n",
      "after removing = jayhriram\n"
     ]
    }
   ],
   "source": [
    "# Write a python Progran to Remove i'th character from String in Diffrent ways\n",
    "\n",
    "s=input(\"enter a string:\")\n",
    "i=int(input(\"enter position\"))\n",
    "s1=s[0:i]+s[i+1:]\n",
    "print(\"after removing =\",s1)"
   ]
  },
  {
   "cell_type": "code",
   "execution_count": 4,
   "id": "798c7e43",
   "metadata": {},
   "outputs": [
    {
     "name": "stdout",
     "output_type": "stream",
     "text": [
      "Enter the No1:23\n",
      "Enter the No2:32\n",
      "Enter the No3:55\n",
      "Max number is: 55\n",
      "None\n"
     ]
    }
   ],
   "source": [
    "#write a Python Function to find the MAX of three numbers\n",
    "\n",
    "a=input(\"Enter the No1:\")\n",
    "b=input(\"Enter the No2:\")\n",
    "c=input(\"Enter the No3:\")\n",
    "def Max(a,b,c):\n",
    "    if(a>b) and (a>c):\n",
    "        print(\"Max number is:\",a)\n",
    "    elif(a<b) and (c<b):\n",
    "        print(\"Max number is:\",b)\n",
    "    else:\n",
    "        print(\"Max number is:\",c)\n",
    "\n",
    "print(Max(a,b,c))"
   ]
  },
  {
   "cell_type": "code",
   "execution_count": 7,
   "id": "37c4a0e0",
   "metadata": {},
   "outputs": [
    {
     "name": "stdout",
     "output_type": "stream",
     "text": [
      "enter stringstringtushar\n",
      "reversed string is:: rahsutgnirts\n"
     ]
    }
   ],
   "source": [
    "# Write a python Program to reverse a String\n",
    "\n",
    "def reverse_str(s):\n",
    "    s1=\"\"\n",
    "    for i in s:\n",
    "        s1=i+s1\n",
    "    print(\"reversed string is::\",s1)\n",
    "\n",
    "s=input(\"enter string\")\n",
    "reverse_str(s)"
   ]
  },
  {
   "cell_type": "code",
   "execution_count": 11,
   "id": "1c51ff6d",
   "metadata": {},
   "outputs": [],
   "source": []
  },
  {
   "cell_type": "code",
   "execution_count": 18,
   "id": "5be1f8a0",
   "metadata": {},
   "outputs": [],
   "source": [
    "# Write a Python  Function to sum all the Numbers in a List\n",
    "def sum():\n",
    "    s=0\n",
    "    l=[1,2,3,4,5]\n",
    "    for i in l:\n",
    "        s=s+l  \n",
    "    print(\"sum of list item =\",s)"
   ]
  },
  {
   "cell_type": "code",
   "execution_count": 19,
   "id": "c615ab1c",
   "metadata": {},
   "outputs": [
    {
     "name": "stdout",
     "output_type": "stream",
     "text": [
      "Enter the Stringtushar tathe\n",
      "Words with even lenght: tushar\n"
     ]
    }
   ],
   "source": [
    "# Write a Python progam to print even length words in String\n",
    "\n",
    "A=input(\"Enter the String\")\n",
    "B=A.split(\" \")\n",
    "for i in B:\n",
    "    if len(i)%2==0:\n",
    "        print(\"Words with even lenght:\",i)"
   ]
  },
  {
   "cell_type": "code",
   "execution_count": 20,
   "id": "f032886b",
   "metadata": {},
   "outputs": [
    {
     "name": "stdout",
     "output_type": "stream",
     "text": [
      "enter string:omsairam\n",
      "string not accepted because it does not contain all vowels\n"
     ]
    }
   ],
   "source": [
    "# Write a Python Program to accept the String which contains all vowels\n",
    "\n",
    "s=input(\"enter string:\")\n",
    "\n",
    "if(('a' in s)and('e' in s)and('i' in s)and('o' in s)and('u' in s)or\n",
    "   ('A' in s)and('E' in s)and('I' in s)and('O' in s)and('U' in s)):\n",
    "    print(\"string accepted\")\n",
    "else:\n",
    "    print(\"string not accepted because it does not contain all vowels\")\n",
    "        "
   ]
  },
  {
   "cell_type": "code",
   "execution_count": 21,
   "id": "11a6a7eb",
   "metadata": {},
   "outputs": [
    {
     "name": "stdout",
     "output_type": "stream",
     "text": [
      "enter first string:computer science department\n",
      "enter second string:ty bsc computer science\n",
      "number of matching elements: 25\n"
     ]
    }
   ],
   "source": [
    "#Write a python program to count the Number of matching character in pair of String\n",
    "\n",
    "a=input(\"enter first string:\")\n",
    "b=input(\"enter second string:\")\n",
    "c=list([])\n",
    "for ch in a:\n",
    "    if ch in b:\n",
    "        c.append(ch)\n",
    "\n",
    "print(\"number of matching elements:\",len(c))"
   ]
  },
  {
   "cell_type": "code",
   "execution_count": 23,
   "id": "60b11483",
   "metadata": {},
   "outputs": [
    {
     "name": "stdout",
     "output_type": "stream",
     "text": [
      "unique elements:: [100, 232, 342, 454, 222]\n"
     ]
    }
   ],
   "source": [
    "#Write a python function that takes a list and returns a new list with unique elements of the first list.\n",
    "\n",
    "def unique_list(numbers):\n",
    "    unique=[]\n",
    "    for item in numbers:\n",
    "        if item not in unique:\n",
    "            unique.append(item)\n",
    "    return unique\n",
    "\n",
    "print(\"unique elements::\",unique_list([100,232,342,454,100,232,342,222]))"
   ]
  },
  {
   "cell_type": "code",
   "execution_count": 25,
   "id": "b74f7eed",
   "metadata": {},
   "outputs": [
    {
     "name": "stdout",
     "output_type": "stream",
     "text": [
      "Enter the number to check:7\n",
      "Number is Perfect number\n"
     ]
    }
   ],
   "source": [
    "#Write a python function to check whether a number is perfect or not.\n",
    "\n",
    "def perfect_number(n):\n",
    "    sum = 0\n",
    "    for x in range(1, n):\n",
    "        if n % x == 0:\n",
    "            sum += x\n",
    "    if(sum==n):\n",
    "        print(n)\n",
    "    return \"Number is Perfect number\"\n",
    "n=int(input(\"Enter the number to check:\"))\n",
    "print(perfect_number(n))"
   ]
  },
  {
   "cell_type": "code",
   "execution_count": 24,
   "id": "042d663d",
   "metadata": {},
   "outputs": [
    {
     "name": "stdout",
     "output_type": "stream",
     "text": [
      "Enter a number : 123\n",
      "This is not prime number\n"
     ]
    }
   ],
   "source": [
    "# Write a python function that takes a number as a parameter and check the number is prime or not.\n",
    "\n",
    "def prime(a):\n",
    "    for i in range (2,a) :\n",
    "        if a % i == 0 :\n",
    "            return \"This is not prime number\"\n",
    "    return \"Prime number\"\n",
    "\n",
    "a = int(input(\"Enter a number : \"))\n",
    "print(prime(a))"
   ]
  }
 ],
 "metadata": {
  "kernelspec": {
   "display_name": "Python 3 (ipykernel)",
   "language": "python",
   "name": "python3"
  },
  "language_info": {
   "codemirror_mode": {
    "name": "ipython",
    "version": 3
   },
   "file_extension": ".py",
   "mimetype": "text/x-python",
   "name": "python",
   "nbconvert_exporter": "python",
   "pygments_lexer": "ipython3",
   "version": "3.9.13"
  }
 },
 "nbformat": 4,
 "nbformat_minor": 5
}
