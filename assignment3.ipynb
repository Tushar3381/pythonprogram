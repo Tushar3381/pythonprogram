{
 "cells": [
  {
   "cell_type": "code",
   "execution_count": 28,
   "id": "2acae94b",
   "metadata": {},
   "outputs": [
    {
     "name": "stdout",
     "output_type": "stream",
     "text": [
      "Sum of Elements in x: 15\n"
     ]
    }
   ],
   "source": [
    "# write a python program to sum all the items in a list.\n",
    "\n",
    "x=[1,2,3,4,5,]\n",
    "y=sum(x)\n",
    "print(\"Sum of Elements in x:\",y)"
   ]
  },
  {
   "cell_type": "code",
   "execution_count": 2,
   "id": "e7e1ab6a",
   "metadata": {},
   "outputs": [
    {
     "name": "stdout",
     "output_type": "stream",
     "text": [
      "Multiplication of Elements in x: 120\n"
     ]
    }
   ],
   "source": [
    "# Write apython program to multiplies all the items in a list.\n",
    "\n",
    "#Multiplication of elament in list\n",
    "x=[1,2,3,4,5]\n",
    "y=1\n",
    "for i in x:\n",
    "    y=y*i\n",
    "print(\"Multiplication of Elements in x:\",y)"
   ]
  },
  {
   "cell_type": "code",
   "execution_count": 3,
   "id": "5dfb965e",
   "metadata": {},
   "outputs": [
    {
     "name": "stdout",
     "output_type": "stream",
     "text": [
      "after sorting= [(40, 10), (10, 20), (24, 34), (30, 40)]\n"
     ]
    }
   ],
   "source": [
    "# Write a python program to get a list, sorted in increasing order by the last element in each tuple from a given list of \n",
    "#non-empty tuples\n",
    "\n",
    "def last(n):\n",
    "    return n[-1]\n",
    "\n",
    "def incr(list):\n",
    "    return sorted(list,key=last)\n",
    "\n",
    "list=[(10,20),(30,40),(40,10),(24,34)]\n",
    "print(\"after sorting=\",incr(list))"
   ]
  },
  {
   "cell_type": "code",
   "execution_count": null,
   "id": "74358db1",
   "metadata": {},
   "outputs": [],
   "source": []
  },
  {
   "cell_type": "code",
   "execution_count": 5,
   "id": "805462e2",
   "metadata": {},
   "outputs": [
    {
     "name": "stdout",
     "output_type": "stream",
     "text": [
      "('Tushar', 'tyBcs', 'shrirampur', 413709)\n"
     ]
    }
   ],
   "source": [
    "#Write a python program to create a tuples.\n",
    "\n",
    "A=(\"Tushar\",\"tyBcs\",\"shrirampur\",413709)\n",
    "print(A)"
   ]
  },
  {
   "cell_type": "code",
   "execution_count": 6,
   "id": "d9c5edd9",
   "metadata": {},
   "outputs": [
    {
     "name": "stdout",
     "output_type": "stream",
     "text": [
      "(3, 5, 6, 2, 7, 88, 11, 32, 9)\n",
      "(2.7, 12.5, 62.6, 28.6, 12.01, 33.5)\n",
      "('A', 'B', 'C', 'D', 'E', 'F')\n",
      "('om', 'Tushar', 'sai', 'Ram')\n",
      "(1, 'tushar', 'tyBcs', 'shrirampur', 413709, 70.6)\n"
     ]
    }
   ],
   "source": [
    "# Write a python program to create a tuple with differnt data types.\n",
    "\n",
    "#Numeric Tupple\n",
    "A=(3,5,6,2,7,88,11,32,9)\n",
    "print(A)\n",
    "#Float Tuple\n",
    "B=(2.7,12.5,62.6,28.6,12.01,33.5)\n",
    "print(B)\n",
    "#Character Tuple\n",
    "C=(\"A\",\"B\",\"C\",\"D\",\"E\",\"F\")\n",
    "print(C)\n",
    "#String Tuple\n",
    "D=(\"om\",\"Tushar\",\"sai\",\"Ram\")\n",
    "print(D)\n",
    "#Mixed Tuple\n",
    "E=(1,\"tushar\",\"tyBcs\",\"shrirampur\",413709,70.60)\n",
    "print(E)"
   ]
  },
  {
   "cell_type": "code",
   "execution_count": 7,
   "id": "fd4b45b5",
   "metadata": {},
   "outputs": [
    {
     "name": "stdout",
     "output_type": "stream",
     "text": [
      "elemetnt doesnt exist\n"
     ]
    }
   ],
   "source": [
    "# Write a python program to check whether an element exists within a tuple.\n",
    "\n",
    "t=(1,2,3,4)\n",
    "if(5 in  t):\n",
    "    print(\"elements exit\")\n",
    "else:\n",
    "    print(\"elemetnt doesnt exist\")"
   ]
  },
  {
   "cell_type": "code",
   "execution_count": 9,
   "id": "6bf6e303",
   "metadata": {},
   "outputs": [
    {
     "name": "stdout",
     "output_type": "stream",
     "text": [
      "{1, 2, 3, 4, 5, 6, 7, 8, 9, 10}\n",
      "{'a', 'b', 'h', 'c', 'g', 'd', 'e', 'f'}\n",
      "{'om', 'Tushar'}\n",
      "{}\n"
     ]
    }
   ],
   "source": [
    "# Write a python program to create a set.\n",
    "\n",
    "A={1,2,3,4,5,6,7,8,9,10}\n",
    "print(A)\n",
    "B={\"a\",\"b\",\"c\",\"d\",\"e\",\"f\",\"g\",\"h\"}\n",
    "print(B)\n",
    "C={\"om\",\"Tushar\"}\n",
    "print(C)\n",
    "#Empty set                                \n",
    "D={}\n",
    "print(D)"
   ]
  },
  {
   "cell_type": "code",
   "execution_count": 10,
   "id": "f188a4ff",
   "metadata": {},
   "outputs": [
    {
     "name": "stdout",
     "output_type": "stream",
     "text": [
      "{'rbnb', 1, 2, 'Tushar', (1, 5, 6, 9)}\n",
      "{1, 2, 5, 6, 7, 8, 'Tushar', (1, 5, 6, 9), 'rbnb', 50}\n",
      "{1, 2, 5, 6, 7, 8, (1, 5, 6, 9), 'rbnb', 50}\n",
      "{1, 5, 6, 7, 8, (1, 5, 6, 9), 'rbnb', 50}\n",
      "{'rbnb', 1, 2, 99, 5, 6, 7, 8, 76, (1, 5, 6, 9), 50, 82, 85}\n"
     ]
    }
   ],
   "source": [
    "# Write a python progra to iterate over sets.\n",
    "\n",
    "A={1,2,\"rbnb\",(1,5,6,9),\"Tushar\"}\n",
    "print(A)\n",
    "A.add(50)\n",
    "A.update([5,6,7,8])\n",
    "print(A)\n",
    "A.discard(\"Tushar\")\n",
    "print(A)\n",
    "A.remove(2)\n",
    "print(A)\n",
    "B={99,82,76,85,5,\"rbnb\",2}\n",
    "C=A.union(B)\n",
    "print(C)"
   ]
  },
  {
   "cell_type": "code",
   "execution_count": 11,
   "id": "8ee94f7d",
   "metadata": {},
   "outputs": [
    {
     "name": "stdout",
     "output_type": "stream",
     "text": [
      "Set A {1, 4, 5, 52, 22, 23, 86, 62}\n",
      "Set B {2, 5, 72, 8, 15, 21, 22, 85, 25, 92}\n",
      "Set difference between A and B {1, 4, 52, 86, 23, 62}\n"
     ]
    }
   ],
   "source": [
    "#write python program to create set differnt.\n",
    "\n",
    "A={1,22,52,62,23,4,86,5}\n",
    "B={2,5,72,5,21,8,15,25,22,92,85}\n",
    "print(\"Set A\",A)\n",
    "print(\"Set B\",B)\n",
    "C=A.difference(B)\n",
    "print(\"Set difference between A and B\",C)"
   ]
  },
  {
   "cell_type": "code",
   "execution_count": null,
   "id": "b6aca1b7",
   "metadata": {},
   "outputs": [],
   "source": []
  },
  {
   "cell_type": "code",
   "execution_count": 12,
   "id": "71e79913",
   "metadata": {},
   "outputs": [
    {
     "name": "stdout",
     "output_type": "stream",
     "text": [
      "Original dictionary :  {1: 'Java', 2: 'Python', 3: 'PHP', 4: 'Html', 5: 'Data Science'}\n",
      "Dictionary in ascending order by value :  [(5, 'Data Science'), (4, 'Html'), (1, 'Java'), (3, 'PHP'), (2, 'Python')]\n",
      "Dictionary in descending order by value :  {2: 'Python', 3: 'PHP', 1: 'Java', 4: 'Html', 5: 'Data Science'}\n"
     ]
    }
   ],
   "source": [
    "# Write a python script to sort(Ascending and Descending ) a dictionary by value.\n",
    "\n",
    "import operator\n",
    "d = {1: \"Java\", 2: \"Python\", 3: \"PHP\", 4: \"Html\", 5: \"Data Science\"}\n",
    "print('Original dictionary : ',d)\n",
    "sorted_d = sorted(d.items(), key=operator.itemgetter(1))\n",
    "print('Dictionary in ascending order by value : ',sorted_d)\n",
    "sorted_d = dict( sorted(d.items(), key=operator.itemgetter(1),reverse=True))\n",
    "print('Dictionary in descending order by value : ',sorted_d)"
   ]
  },
  {
   "cell_type": "code",
   "execution_count": 13,
   "id": "3a9800ac",
   "metadata": {},
   "outputs": [
    {
     "name": "stdout",
     "output_type": "stream",
     "text": [
      "Updated A: {'Name': 'Tushar', 'Roll NO': 3381, 'add': 'Shrirampur'}\n",
      "Updated after adding 1: {'Name': 'Tushar', 'Roll NO': 3381, 'add': 'Shrirampur'}\n"
     ]
    }
   ],
   "source": [
    "# Write a python Script to add key to a dictionary.\n",
    "\n",
    "A={\"Name\":\"Tushar\",\"Roll NO\":3381,\"add\":\"Shrirampur\"}\n",
    "A[5]:\"Rbnb college Shriampur\"\n",
    "print(\"Updated A:\",A)\n",
    "A[1]:2589631479630.11346\n",
    "print(\"Updated after adding 1:\",A)"
   ]
  },
  {
   "cell_type": "code",
   "execution_count": 14,
   "id": "5a201dc3",
   "metadata": {},
   "outputs": [
    {
     "name": "stdout",
     "output_type": "stream",
     "text": [
      "name tushar\n",
      "age 22\n",
      "marks 69\n"
     ]
    }
   ],
   "source": [
    "#Write a progran to iterate over dictionary using function.\n",
    "\n",
    "d1={'name': 'tushar', 'age': 22, 'marks': 69}\n",
    "for k,v in d1.items():\n",
    "    print (k,v)"
   ]
  },
  {
   "cell_type": "code",
   "execution_count": null,
   "id": "7d2b453c",
   "metadata": {},
   "outputs": [],
   "source": []
  },
  {
   "cell_type": "code",
   "execution_count": 16,
   "id": "b1b8ca94",
   "metadata": {},
   "outputs": [
    {
     "name": "stdout",
     "output_type": "stream",
     "text": [
      "[2, 3, 5, 4, 6, 9, 8, 7]\n"
     ]
    }
   ],
   "source": [
    "#Write a program to remove Duplicates from a list.\n",
    "\n",
    "A=[2,3,5,4,4,4,4,5,5,6,9,8,7,3,2]\n",
    "B=[]\n",
    "for i in A:\n",
    "   if i not in B:\n",
    "       B.append(i)\n",
    "print(B)"
   ]
  },
  {
   "cell_type": "code",
   "execution_count": 17,
   "id": "7f3c1187",
   "metadata": {},
   "outputs": [
    {
     "name": "stdout",
     "output_type": "stream",
     "text": [
      "List is empty\n"
     ]
    }
   ],
   "source": [
    "# Write a python program to check a list is empty or not.\n",
    "\n",
    "A=[]\n",
    "B=len(A)\n",
    "if(B==0):\n",
    "    print(\"List is empty\")\n",
    "else:\n",
    "    print(\"List contain elemants\")"
   ]
  },
  {
   "cell_type": "code",
   "execution_count": null,
   "id": "0c1a8e44",
   "metadata": {},
   "outputs": [],
   "source": []
  },
  {
   "cell_type": "code",
   "execution_count": 18,
   "id": "5f33851b",
   "metadata": {},
   "outputs": [
    {
     "name": "stdout",
     "output_type": "stream",
     "text": [
      "(1, 2, 3, 4, 5, 6, 7, 8)\n"
     ]
    }
   ],
   "source": [
    "# Write a python to convert a list to a tuples.\n",
    "\n",
    "def convert(list):\n",
    "    return tuple(list)\n",
    "list = [1,2,3,4,5,6,7,8]\n",
    "print(convert(list))"
   ]
  },
  {
   "cell_type": "code",
   "execution_count": 19,
   "id": "b182502e",
   "metadata": {},
   "outputs": [
    {
     "name": "stdout",
     "output_type": "stream",
     "text": [
      "(1, 2, 4, 5)\n"
     ]
    }
   ],
   "source": [
    "#Write a python program to remove an item from a tuple\n",
    "\n",
    "a = (1, 2, 3, 4, 5)\n",
    "b = a[:2] + a[3:]\n",
    "print(b)"
   ]
  },
  {
   "cell_type": "code",
   "execution_count": 20,
   "id": "0d343ef0",
   "metadata": {},
   "outputs": [
    {
     "name": "stdout",
     "output_type": "stream",
     "text": [
      "('a', 'b', 'c', 'd', 'e', 'f')\n",
      "('b', 'd', 'f', 'h')\n",
      "('j', 'h')\n"
     ]
    }
   ],
   "source": [
    "#Write a python program to slice a tuple.\n",
    "\n",
    "A= ('a','b','c','d','e','f','g','h','i','j')\n",
    "print(A[0:6])\n",
    "print(A[1:9:2])\n",
    "print(A[-1:-5:-2])"
   ]
  },
  {
   "cell_type": "code",
   "execution_count": 21,
   "id": "9b89545c",
   "metadata": {},
   "outputs": [
    {
     "name": "stdout",
     "output_type": "stream",
     "text": [
      "Lenght of tuple is: 10\n"
     ]
    }
   ],
   "source": [
    "# Write a python Program to find the length of tuple.\n",
    "\n",
    "A=(1,2,3,4,5,6,7,8,9,0)\n",
    "print(\"Lenght of tuple is:\",len(A))"
   ]
  },
  {
   "cell_type": "code",
   "execution_count": null,
   "id": "3e60e01a",
   "metadata": {},
   "outputs": [],
   "source": []
  },
  {
   "cell_type": "code",
   "execution_count": 22,
   "id": "1e2f059f",
   "metadata": {},
   "outputs": [
    {
     "name": "stdout",
     "output_type": "stream",
     "text": [
      "B is subset of A\n"
     ]
    }
   ],
   "source": [
    "#write a Python program to check if a set is subset of another set.\n",
    "\n",
    "A={1,2,3,4,5,6,7,8,9,0}\n",
    "B={1,2,3,4,5}\n",
    "if(B.issubset(A)):\n",
    "    print(\"B is subset of A\")\n",
    "else:\n",
    "    print(\"B is not Subset of A\")\n",
    "    "
   ]
  },
  {
   "cell_type": "code",
   "execution_count": 23,
   "id": "3f7f93a1",
   "metadata": {},
   "outputs": [
    {
     "name": "stdout",
     "output_type": "stream",
     "text": [
      "Maximum value in set is: 511\n",
      "Minimum value in set is: 2\n"
     ]
    }
   ],
   "source": [
    "#Write a python program to find maximum and the minimum value in the set.\n",
    "\n",
    "A={100,88,66,511,5,412,2,69,6,8}\n",
    "B=max(A)   #use max(set) to find maximum element in set \n",
    "C=min(A)   #use min(set) to find minimum element in set\n",
    "print(\"Maximum value in set is:\",B)\n",
    "print(\"Minimum value in set is:\",C)"
   ]
  },
  {
   "cell_type": "code",
   "execution_count": 24,
   "id": "73ac215d",
   "metadata": {},
   "outputs": [
    {
     "name": "stdout",
     "output_type": "stream",
     "text": [
      "Lenght of set A is : 10\n"
     ]
    }
   ],
   "source": [
    "# Write a python program to find a length of set.\n",
    "\n",
    "A={1,2,3,4,5,6,9,8,7,8,9,10}\n",
    "B=len(A)\n",
    "print(\"Lenght of set A is :\",B)\n",
    "#use len(set) function to find lenght of perticular set"
   ]
  },
  {
   "cell_type": "code",
   "execution_count": null,
   "id": "31faf29f",
   "metadata": {},
   "outputs": [],
   "source": []
  },
  {
   "cell_type": "code",
   "execution_count": 25,
   "id": "28486477",
   "metadata": {},
   "outputs": [
    {
     "name": "stdout",
     "output_type": "stream",
     "text": [
      "Input a number 10\n",
      "{1: 1, 2: 4, 3: 9, 4: 16, 5: 25, 6: 36, 7: 49, 8: 64, 9: 81, 10: 100}\n"
     ]
    }
   ],
   "source": [
    "# Write a python script to generate and print a dictionary that contains a number (between 1 & n)int the form (x,x*x).\n",
    "\n",
    "n=int(input(\"Input a number \"))\n",
    "dict = dict()\n",
    "\n",
    "for x in range(1,n+1):\n",
    "    dict[x]=x*x\n",
    "\n",
    "print(dict) "
   ]
  },
  {
   "cell_type": "code",
   "execution_count": 26,
   "id": "5918cd8d",
   "metadata": {},
   "outputs": [
    {
     "name": "stdout",
     "output_type": "stream",
     "text": [
      "{'a': 10, 'b': 20, 'c': 30, 'd': 40}\n"
     ]
    }
   ],
   "source": [
    "# Wirte a python script to merge two python dictionaries.\n",
    "\n",
    "A = {'a': 10, 'b': 20}\n",
    "B = {'c': 30, 'd': 40}\n",
    "A.update(B)\n",
    "print(A)"
   ]
  }
 ],
 "metadata": {
  "kernelspec": {
   "display_name": "Python 3 (ipykernel)",
   "language": "python",
   "name": "python3"
  },
  "language_info": {
   "codemirror_mode": {
    "name": "ipython",
    "version": 3
   },
   "file_extension": ".py",
   "mimetype": "text/x-python",
   "name": "python",
   "nbconvert_exporter": "python",
   "pygments_lexer": "ipython3",
   "version": "3.9.13"
  }
 },
 "nbformat": 4,
 "nbformat_minor": 5
}
